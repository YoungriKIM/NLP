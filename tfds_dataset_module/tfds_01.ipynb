{
 "cells": [
  {
   "cell_type": "code",
   "execution_count": null,
   "metadata": {},
   "outputs": [],
   "source": [
    "# pip install tfds-korean\n",
    "\n",
    "# 데이터 종류: https://jeongukjae.github.io/tfds-korean/"
   ]
  },
  {
   "cell_type": "code",
   "execution_count": 10,
   "metadata": {},
   "outputs": [],
   "source": [
    "import tensorflow as tf\n",
    "import tensorflow_datasets as tfds\n",
    "from tfds_korean import nsmc, klue_dp, klue_dst, klue_ner"
   ]
  },
  {
   "cell_type": "code",
   "execution_count": 8,
   "metadata": {},
   "outputs": [
    {
     "name": "stdout",
     "output_type": "stream",
     "text": [
      "train\n",
      "test\n",
      "{'document': \"테리 길리암을 믿었는데... 감독 극본 연출 모두 조델 퍼랜드일꺼 같은 느낌-_-\", 'label': 0}\n",
      "{'document': \"불가능이란 없는 것. 감동적이네요\", 'label': 1}\n",
      "{'document': \"후쿠사카 킨지가 이영화찍는도중 사망하여 그아들이 바톤받아 제작했지만결국 전작의 원작을 모욕한 희대의 쓰레기작이자 흑역사..\", 'label': 0}\n",
      "{'document': \"작가가 중학교를 체 졸업하지 못한 것 같은 드라마. 중2병이 보면 재미있을수도 있겠다 싶은 드라마.\", 'label': 0}\n",
      "{'document': \"다양한 역설적 요소들은 이해하더라도 공감하고 즐기기에는 힘들다..\", 'label': 0}\n",
      "{'document': \"마치 돌고있는 회전목마에서는 하차할 수 없다는 느낌같은 것이 문뜩 들었다.\", 'label': 1}\n",
      "{'document': \"어디로 비상하는건여??? 왜 19금이여???? 이런영화는 그만....\", 'label': 0}\n",
      "{'document': \"달팽이의 별에서 온 남자의 느리고 아름다운 세상체험기. 세상과 연인에 대한 그의 사랑은 깊고 감성적이네요. 부디 어린왕자보다 훨씬 더 오래오래 세상에 머물며 아름다운 말과 글을 남겨 주길 바랍니다.\", 'label': 1}\n",
      "{'document': \"장면 장면의 센스는 돋보이나 전체적으로 유치하기 짝이없다\", 'label': 0}\n",
      "{'document': \"재밌나? 우린 죽을 맛이다\", 'label': 0}\n"
     ]
    }
   ],
   "source": [
    "for example in tfds.load(\"nsmc\"):\n",
    "    print(example)\n",
    "    \n",
    "ds = tfds.load('nsmc')\n",
    "ds\n",
    "for row in ds['train'].take(10):\n",
    "    tf.print(row)"
   ]
  },
  {
   "cell_type": "code",
   "execution_count": 11,
   "metadata": {},
   "outputs": [
    {
     "name": "stderr",
     "output_type": "stream",
     "text": [
      "Dl Completed...: 0 url [00:00, ? url/s]\n",
      "Dl Completed...:   0%|          | 0/1 [00:00<?, ? url/s]\n",
      "Dl Completed...:   0%|          | 0/2 [00:00<?, ? url/s]\n",
      "\u001b[A"
     ]
    },
    {
     "name": "stdout",
     "output_type": "stream",
     "text": [
      "\u001b[1mDownloading and preparing dataset Unknown size (download: Unknown size, generated: Unknown size, total: Unknown size) to C:\\Users\\lemon\\tensorflow_datasets\\klue_ner\\1.1.0...\u001b[0m\n"
     ]
    },
    {
     "name": "stderr",
     "output_type": "stream",
     "text": [
      "Dl Completed...:   0%|          | 0/2 [00:00<?, ? url/s]\n",
      "Dl Completed...:   0%|          | 0/2 [00:00<?, ? url/s]\n",
      "Dl Completed...:   0%|          | 0/2 [00:01<?, ? url/s]\n",
      "Dl Completed...:  50%|█████     | 1/2 [00:01<00:01,  1.06s/ url]\n",
      "Dl Completed...:  50%|█████     | 1/2 [00:01<00:01,  1.06s/ url]\n",
      "Dl Completed...:  50%|█████     | 1/2 [00:01<00:01,  1.06s/ url]\n",
      "Dl Completed...:  50%|█████     | 1/2 [00:01<00:01,  1.06s/ url]\n",
      "Dl Completed...:  50%|█████     | 1/2 [00:02<00:01,  1.06s/ url]\n",
      "Dl Completed...:  50%|█████     | 1/2 [00:02<00:01,  1.06s/ url]\n",
      "Dl Completed...:  50%|█████     | 1/2 [00:02<00:01,  1.06s/ url]\n",
      "Dl Completed...:  50%|█████     | 1/2 [00:02<00:01,  1.06s/ url]\n",
      "Dl Completed...:  50%|█████     | 1/2 [00:02<00:01,  1.06s/ url]\n",
      "Dl Completed...:  50%|█████     | 1/2 [00:02<00:01,  1.06s/ url]\n",
      "Dl Completed...:  50%|█████     | 1/2 [00:02<00:01,  1.06s/ url]\n",
      "Dl Completed...:  50%|█████     | 1/2 [00:02<00:01,  1.06s/ url]\n",
      "Dl Completed...: 100%|██████████| 2/2 [00:02<00:00,  1.06s/ url]\n",
      "Extraction completed...: 0 file [00:02, ? file/s]\n",
      "Dl Size...: 12 MiB [00:02,  5.63 MiB/s]\n",
      "Dl Completed...: 100%|██████████| 2/2 [00:02<00:00,  1.07s/ url]\n",
      "                                                                        "
     ]
    },
    {
     "name": "stdout",
     "output_type": "stream",
     "text": [
      "\u001b[1mDataset klue_ner downloaded and prepared to C:\\Users\\lemon\\tensorflow_datasets\\klue_ner\\1.1.0. Subsequent calls will reuse this data.\u001b[0m\n",
      "{'labels': [\"B-PS\" \"I-PS\" \"O\" ... \"O\" \"O\" \"O\"], 'tokens': [\"존\" \"스\" \" \" ... \"다\" \".\" \".\"]}\n",
      "{'labels': [\"B-DT\" \"I-DT\" \"O\" ... \"O\" \"O\" \"O\"], 'tokens': [\"3\" \"월\" \"에\" ... \"이\" \"다\" \".\"]}\n",
      "{'labels': [\"B-PS\" \"I-PS\" \"I-PS\" ... \"O\" \"O\" \"O\"], 'tokens': [\"김\" \" \" \"참\" ... \"니\" \"다\" \".\"]}\n",
      "{'labels': [\"B-PS\" \"I-PS\" \"I-PS\" ... \"O\" \"O\" \"O\"], 'tokens': [\"박\" \"인\" \"비\" ... \"렸\" \"다\" \".\"]}\n",
      "{'labels': [\"B-PS\" \"I-PS\" \"I-PS\" ... \"O\" \"O\" \"O\"], 'tokens': [\"안\" \" \" \"시\" ... \"니\" \"다\" \".\"]}\n",
      "{'labels': [\"O\" \"O\" \"O\" ... \"O\" \"O\" \"O\"], 'tokens': [\"앞\" \"서\" \" \" ... \"했\" \"다\" \".\"]}\n",
      "{'labels': [\"O\" \"O\" \"O\" ... \"O\" \"B-QT\" \"I-QT\"], 'tokens': [\"감\" \"독\" \"의\" ... \" \" \"0\" \"점\"]}\n",
      "{'labels': [\"B-DT\" \"I-DT\" \"I-DT\" ... \"O\" \"O\" \"O\"], 'tokens': [\"1\" \"4\" \"일\" ... \"했\" \"다\" \".\"]}\n",
      "{'labels': [\"O\" \"O\" \"O\" ... \"O\" \"O\" \"O\"], 'tokens': [\"이\" \" \" \"해\" ... \"니\" \"다\" \".\"]}\n",
      "{'labels': [\"O\" \"O\" \"O\" ... \"O\" \"O\" \"O\"], 'tokens': [\"조\" \"사\" \" \" ... \"했\" \"다\" \".\"]}\n"
     ]
    },
    {
     "name": "stderr",
     "output_type": "stream",
     "text": [
      "\r"
     ]
    }
   ],
   "source": [
    "ds = tfds.load('klue_ner')\n",
    "ds\n",
    "for row in ds['train'].take(10):\n",
    "    tf.print(row)"
   ]
  }
 ],
 "metadata": {
  "interpreter": {
   "hash": "b18ecf447b39d25eae6a9ae9d5694327d58d99c869301a8afbbe0bb2ae2074bb"
  },
  "kernelspec": {
   "display_name": "Python 3.8.8 ('base')",
   "language": "python",
   "name": "python3"
  },
  "language_info": {
   "codemirror_mode": {
    "name": "ipython",
    "version": 3
   },
   "file_extension": ".py",
   "mimetype": "text/x-python",
   "name": "python",
   "nbconvert_exporter": "python",
   "pygments_lexer": "ipython3",
   "version": "3.8.8"
  },
  "orig_nbformat": 4
 },
 "nbformat": 4,
 "nbformat_minor": 2
}
