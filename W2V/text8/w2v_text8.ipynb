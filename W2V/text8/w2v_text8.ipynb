{
 "cells": [
  {
   "cell_type": "code",
   "execution_count": 2,
   "metadata": {},
   "outputs": [],
   "source": [
    "from gensim.models import word2vec\n",
    "import logging\n",
    "import sys"
   ]
  },
  {
   "cell_type": "code",
   "execution_count": 33,
   "metadata": {},
   "outputs": [
    {
     "name": "stderr",
     "output_type": "stream",
     "text": [
      "2022-02-09 14:52:43,234 : INFO : collecting all words and their counts\n",
      "2022-02-09 14:52:44,757 : INFO : PROGRESS: at sentence #0, processed 0 words, keeping 0 word types\n",
      "2022-02-09 14:52:49,090 : INFO : collected 253854 word types from a corpus of 17005207 raw words and 1701 sentences\n",
      "2022-02-09 14:52:49,093 : INFO : Creating a fresh vocabulary\n",
      "2022-02-09 14:52:50,358 : INFO : Word2Vec lifecycle event {'msg': 'effective_min_count=1 retains 253854 unique words (100.0%% of original 253854, drops 0)', 'datetime': '2022-02-09T14:52:50.357975', 'gensim': '4.1.2', 'python': '3.7.5 (default, Sep 30 2021, 17:02:25) \\n[GCC 4.8.5 20150623 (Red Hat 4.8.5-44)]', 'platform': 'Linux-3.10.0-1160.42.2.el7.x86_64-x86_64-with-centos-7.9.2009-Core', 'event': 'prepare_vocab'}\n",
      "2022-02-09 14:52:50,359 : INFO : Word2Vec lifecycle event {'msg': 'effective_min_count=1 leaves 17005207 word corpus (100.0%% of original 17005207, drops 0)', 'datetime': '2022-02-09T14:52:50.359502', 'gensim': '4.1.2', 'python': '3.7.5 (default, Sep 30 2021, 17:02:25) \\n[GCC 4.8.5 20150623 (Red Hat 4.8.5-44)]', 'platform': 'Linux-3.10.0-1160.42.2.el7.x86_64-x86_64-with-centos-7.9.2009-Core', 'event': 'prepare_vocab'}\n",
      "2022-02-09 14:52:51,948 : INFO : deleting the raw counts dictionary of 253854 items\n",
      "2022-02-09 14:52:51,962 : INFO : sample=0.001 downsamples 36 most-common words\n",
      "2022-02-09 14:52:51,963 : INFO : Word2Vec lifecycle event {'msg': 'downsampling leaves estimated 12819131.785650097 word corpus (75.4%% of prior 17005207)', 'datetime': '2022-02-09T14:52:51.963706', 'gensim': '4.1.2', 'python': '3.7.5 (default, Sep 30 2021, 17:02:25) \\n[GCC 4.8.5 20150623 (Red Hat 4.8.5-44)]', 'platform': 'Linux-3.10.0-1160.42.2.el7.x86_64-x86_64-with-centos-7.9.2009-Core', 'event': 'prepare_vocab'}\n",
      "2022-02-09 14:52:55,066 : INFO : estimated required memory for 253854 words and 100 dimensions: 330010200 bytes\n",
      "2022-02-09 14:52:55,067 : INFO : resetting layer weights\n",
      "2022-02-09 14:52:55,262 : INFO : Word2Vec lifecycle event {'update': False, 'trim_rule': 'None', 'datetime': '2022-02-09T14:52:55.261862', 'gensim': '4.1.2', 'python': '3.7.5 (default, Sep 30 2021, 17:02:25) \\n[GCC 4.8.5 20150623 (Red Hat 4.8.5-44)]', 'platform': 'Linux-3.10.0-1160.42.2.el7.x86_64-x86_64-with-centos-7.9.2009-Core', 'event': 'build_vocab'}\n",
      "2022-02-09 14:52:55,264 : INFO : Word2Vec lifecycle event {'msg': 'training model with 15 workers on 253854 vocabulary and 100 features, using sg=0 hs=0 sample=0.001 negative=5 window=10 shrink_windows=True', 'datetime': '2022-02-09T14:52:55.264861', 'gensim': '4.1.2', 'python': '3.7.5 (default, Sep 30 2021, 17:02:25) \\n[GCC 4.8.5 20150623 (Red Hat 4.8.5-44)]', 'platform': 'Linux-3.10.0-1160.42.2.el7.x86_64-x86_64-with-centos-7.9.2009-Core', 'event': 'train'}\n",
      "2022-02-09 14:52:57,066 : INFO : EPOCH 1 - PROGRESS: at 0.06% examples, 4534 words/s, in_qsize 27, out_qsize 2\n",
      "2022-02-09 14:52:58,073 : INFO : EPOCH 1 - PROGRESS: at 7.88% examples, 375579 words/s, in_qsize 29, out_qsize 0\n",
      "2022-02-09 14:52:59,074 : INFO : EPOCH 1 - PROGRESS: at 14.93% examples, 518345 words/s, in_qsize 28, out_qsize 1\n",
      "2022-02-09 14:53:00,076 : INFO : EPOCH 1 - PROGRESS: at 21.87% examples, 596987 words/s, in_qsize 26, out_qsize 3\n",
      "2022-02-09 14:53:01,090 : INFO : EPOCH 1 - PROGRESS: at 29.16% examples, 656158 words/s, in_qsize 29, out_qsize 0\n",
      "2022-02-09 14:53:02,102 : INFO : EPOCH 1 - PROGRESS: at 36.33% examples, 696083 words/s, in_qsize 25, out_qsize 4\n",
      "2022-02-09 14:53:03,112 : INFO : EPOCH 1 - PROGRESS: at 43.86% examples, 729967 words/s, in_qsize 30, out_qsize 0\n",
      "2022-02-09 14:53:04,117 : INFO : EPOCH 1 - PROGRESS: at 50.85% examples, 749477 words/s, in_qsize 29, out_qsize 0\n",
      "2022-02-09 14:53:05,124 : INFO : EPOCH 1 - PROGRESS: at 58.14% examples, 768473 words/s, in_qsize 28, out_qsize 1\n",
      "2022-02-09 14:53:06,128 : INFO : EPOCH 1 - PROGRESS: at 65.61% examples, 785935 words/s, in_qsize 28, out_qsize 1\n",
      "2022-02-09 14:53:07,142 : INFO : EPOCH 1 - PROGRESS: at 73.25% examples, 801852 words/s, in_qsize 30, out_qsize 1\n",
      "2022-02-09 14:53:08,155 : INFO : EPOCH 1 - PROGRESS: at 80.72% examples, 811669 words/s, in_qsize 29, out_qsize 0\n",
      "2022-02-09 14:53:09,201 : INFO : EPOCH 1 - PROGRESS: at 88.42% examples, 821873 words/s, in_qsize 23, out_qsize 6\n",
      "2022-02-09 14:53:10,202 : INFO : EPOCH 1 - PROGRESS: at 95.94% examples, 831225 words/s, in_qsize 30, out_qsize 0\n",
      "2022-02-09 14:53:11,164 : INFO : worker thread finished; awaiting finish of 14 more threads\n",
      "2022-02-09 14:53:11,207 : INFO : EPOCH 1 - PROGRESS: at 99.24% examples, 804814 words/s, in_qsize 11, out_qsize 5\n",
      "2022-02-09 14:53:11,214 : INFO : worker thread finished; awaiting finish of 13 more threads\n",
      "2022-02-09 14:53:11,217 : INFO : worker thread finished; awaiting finish of 12 more threads\n",
      "2022-02-09 14:53:11,219 : INFO : worker thread finished; awaiting finish of 11 more threads\n",
      "2022-02-09 14:53:11,221 : INFO : worker thread finished; awaiting finish of 10 more threads\n",
      "2022-02-09 14:53:11,224 : INFO : worker thread finished; awaiting finish of 9 more threads\n",
      "2022-02-09 14:53:11,225 : INFO : worker thread finished; awaiting finish of 8 more threads\n",
      "2022-02-09 14:53:11,226 : INFO : worker thread finished; awaiting finish of 7 more threads\n",
      "2022-02-09 14:53:11,238 : INFO : worker thread finished; awaiting finish of 6 more threads\n",
      "2022-02-09 14:53:11,260 : INFO : worker thread finished; awaiting finish of 5 more threads\n",
      "2022-02-09 14:53:11,262 : INFO : worker thread finished; awaiting finish of 4 more threads\n",
      "2022-02-09 14:53:11,263 : INFO : worker thread finished; awaiting finish of 3 more threads\n",
      "2022-02-09 14:53:11,265 : INFO : worker thread finished; awaiting finish of 2 more threads\n",
      "2022-02-09 14:53:11,267 : INFO : worker thread finished; awaiting finish of 1 more threads\n",
      "2022-02-09 14:53:11,274 : INFO : worker thread finished; awaiting finish of 0 more threads\n",
      "2022-02-09 14:53:11,275 : INFO : EPOCH - 1 : training on 17005207 raw words (12819304 effective words) took 15.9s, 807451 effective words/s\n",
      "2022-02-09 14:53:13,059 : INFO : EPOCH 2 - PROGRESS: at 0.06% examples, 4314 words/s, in_qsize 26, out_qsize 3\n",
      "2022-02-09 14:53:14,111 : INFO : EPOCH 2 - PROGRESS: at 7.05% examples, 317518 words/s, in_qsize 25, out_qsize 4\n",
      "2022-02-09 14:53:15,112 : INFO : EPOCH 2 - PROGRESS: at 13.93% examples, 463973 words/s, in_qsize 29, out_qsize 0\n",
      "2022-02-09 14:53:16,129 : INFO : EPOCH 2 - PROGRESS: at 20.28% examples, 533816 words/s, in_qsize 29, out_qsize 0\n",
      "2022-02-09 14:53:17,138 : INFO : EPOCH 2 - PROGRESS: at 27.34% examples, 597140 words/s, in_qsize 29, out_qsize 0\n",
      "2022-02-09 14:53:18,179 : INFO : EPOCH 2 - PROGRESS: at 34.45% examples, 641012 words/s, in_qsize 29, out_qsize 0\n",
      "2022-02-09 14:53:19,191 : INFO : EPOCH 2 - PROGRESS: at 41.68% examples, 676471 words/s, in_qsize 29, out_qsize 0\n",
      "2022-02-09 14:53:20,221 : INFO : EPOCH 2 - PROGRESS: at 48.74% examples, 700309 words/s, in_qsize 26, out_qsize 3\n",
      "2022-02-09 14:53:21,228 : INFO : EPOCH 2 - PROGRESS: at 56.14% examples, 725695 words/s, in_qsize 20, out_qsize 9\n",
      "2022-02-09 14:53:22,253 : INFO : EPOCH 2 - PROGRESS: at 63.49% examples, 743803 words/s, in_qsize 29, out_qsize 1\n",
      "2022-02-09 14:53:23,271 : INFO : EPOCH 2 - PROGRESS: at 71.31% examples, 764219 words/s, in_qsize 27, out_qsize 2\n",
      "2022-02-09 14:53:24,329 : INFO : EPOCH 2 - PROGRESS: at 79.13% examples, 777835 words/s, in_qsize 24, out_qsize 5\n",
      "2022-02-09 14:53:25,336 : INFO : EPOCH 2 - PROGRESS: at 86.30% examples, 787476 words/s, in_qsize 29, out_qsize 0\n",
      "2022-02-09 14:53:26,340 : INFO : EPOCH 2 - PROGRESS: at 93.36% examples, 794932 words/s, in_qsize 29, out_qsize 0\n",
      "2022-02-09 14:53:27,610 : INFO : EPOCH 2 - PROGRESS: at 97.47% examples, 765168 words/s, in_qsize 30, out_qsize 4\n",
      "2022-02-09 14:53:27,863 : INFO : worker thread finished; awaiting finish of 14 more threads\n",
      "2022-02-09 14:53:27,869 : INFO : worker thread finished; awaiting finish of 13 more threads\n",
      "2022-02-09 14:53:27,893 : INFO : worker thread finished; awaiting finish of 12 more threads\n",
      "2022-02-09 14:53:27,901 : INFO : worker thread finished; awaiting finish of 11 more threads\n",
      "2022-02-09 14:53:27,904 : INFO : worker thread finished; awaiting finish of 10 more threads\n",
      "2022-02-09 14:53:27,917 : INFO : worker thread finished; awaiting finish of 9 more threads\n",
      "2022-02-09 14:53:27,920 : INFO : worker thread finished; awaiting finish of 8 more threads\n",
      "2022-02-09 14:53:27,922 : INFO : worker thread finished; awaiting finish of 7 more threads\n",
      "2022-02-09 14:53:27,936 : INFO : worker thread finished; awaiting finish of 6 more threads\n",
      "2022-02-09 14:53:27,940 : INFO : worker thread finished; awaiting finish of 5 more threads\n",
      "2022-02-09 14:53:27,943 : INFO : worker thread finished; awaiting finish of 4 more threads\n",
      "2022-02-09 14:53:27,945 : INFO : worker thread finished; awaiting finish of 3 more threads\n",
      "2022-02-09 14:53:27,947 : INFO : worker thread finished; awaiting finish of 2 more threads\n",
      "2022-02-09 14:53:27,949 : INFO : worker thread finished; awaiting finish of 1 more threads\n",
      "2022-02-09 14:53:27,950 : INFO : worker thread finished; awaiting finish of 0 more threads\n",
      "2022-02-09 14:53:27,951 : INFO : EPOCH - 2 : training on 17005207 raw words (12815680 effective words) took 16.7s, 768801 effective words/s\n",
      "2022-02-09 14:53:29,758 : INFO : EPOCH 3 - PROGRESS: at 0.06% examples, 4146 words/s, in_qsize 28, out_qsize 1\n",
      "2022-02-09 14:53:30,762 : INFO : EPOCH 3 - PROGRESS: at 7.11% examples, 322924 words/s, in_qsize 27, out_qsize 2\n",
      "2022-02-09 14:53:31,768 : INFO : EPOCH 3 - PROGRESS: at 13.70% examples, 458747 words/s, in_qsize 30, out_qsize 0\n",
      "2022-02-09 14:53:32,774 : INFO : EPOCH 3 - PROGRESS: at 20.28% examples, 537313 words/s, in_qsize 28, out_qsize 1\n",
      "2022-02-09 14:53:33,814 : INFO : EPOCH 3 - PROGRESS: at 26.87% examples, 586851 words/s, in_qsize 26, out_qsize 3\n",
      "2022-02-09 14:53:34,818 : INFO : EPOCH 3 - PROGRESS: at 33.86% examples, 633322 words/s, in_qsize 27, out_qsize 2\n",
      "2022-02-09 14:53:35,841 : INFO : EPOCH 3 - PROGRESS: at 40.80% examples, 664166 words/s, in_qsize 26, out_qsize 3\n",
      "2022-02-09 14:53:36,844 : INFO : EPOCH 3 - PROGRESS: at 47.97% examples, 693323 words/s, in_qsize 30, out_qsize 4\n",
      "2022-02-09 14:53:37,844 : INFO : EPOCH 3 - PROGRESS: at 55.14% examples, 716994 words/s, in_qsize 28, out_qsize 1\n",
      "2022-02-09 14:53:38,859 : INFO : EPOCH 3 - PROGRESS: at 62.96% examples, 742379 words/s, in_qsize 24, out_qsize 5\n",
      "2022-02-09 14:53:39,873 : INFO : EPOCH 3 - PROGRESS: at 69.72% examples, 751928 words/s, in_qsize 29, out_qsize 0\n",
      "2022-02-09 14:53:40,875 : INFO : EPOCH 3 - PROGRESS: at 76.95% examples, 764526 words/s, in_qsize 29, out_qsize 0\n",
      "2022-02-09 14:53:41,883 : INFO : EPOCH 3 - PROGRESS: at 83.83% examples, 772225 words/s, in_qsize 29, out_qsize 0\n",
      "2022-02-09 14:53:42,896 : INFO : EPOCH 3 - PROGRESS: at 90.48% examples, 777075 words/s, in_qsize 29, out_qsize 0\n",
      "2022-02-09 14:53:43,902 : INFO : EPOCH 3 - PROGRESS: at 96.94% examples, 779540 words/s, in_qsize 29, out_qsize 0\n",
      "2022-02-09 14:53:44,777 : INFO : worker thread finished; awaiting finish of 14 more threads\n",
      "2022-02-09 14:53:44,785 : INFO : worker thread finished; awaiting finish of 13 more threads\n",
      "2022-02-09 14:53:44,786 : INFO : worker thread finished; awaiting finish of 12 more threads\n",
      "2022-02-09 14:53:44,788 : INFO : worker thread finished; awaiting finish of 11 more threads\n",
      "2022-02-09 14:53:44,790 : INFO : worker thread finished; awaiting finish of 10 more threads\n",
      "2022-02-09 14:53:44,813 : INFO : worker thread finished; awaiting finish of 9 more threads\n",
      "2022-02-09 14:53:44,815 : INFO : worker thread finished; awaiting finish of 8 more threads\n",
      "2022-02-09 14:53:44,818 : INFO : worker thread finished; awaiting finish of 7 more threads\n",
      "2022-02-09 14:53:44,820 : INFO : worker thread finished; awaiting finish of 6 more threads\n",
      "2022-02-09 14:53:44,822 : INFO : worker thread finished; awaiting finish of 5 more threads\n",
      "2022-02-09 14:53:44,827 : INFO : worker thread finished; awaiting finish of 4 more threads\n",
      "2022-02-09 14:53:44,829 : INFO : worker thread finished; awaiting finish of 3 more threads\n",
      "2022-02-09 14:53:44,838 : INFO : worker thread finished; awaiting finish of 2 more threads\n",
      "2022-02-09 14:53:44,840 : INFO : worker thread finished; awaiting finish of 1 more threads\n",
      "2022-02-09 14:53:44,841 : INFO : worker thread finished; awaiting finish of 0 more threads\n",
      "2022-02-09 14:53:44,841 : INFO : EPOCH - 3 : training on 17005207 raw words (12819218 effective words) took 16.9s, 759200 effective words/s\n",
      "2022-02-09 14:53:46,279 : INFO : EPOCH 4 - PROGRESS: at 0.06% examples, 5281 words/s, in_qsize 29, out_qsize 0\n",
      "2022-02-09 14:53:47,283 : INFO : EPOCH 4 - PROGRESS: at 7.35% examples, 384278 words/s, in_qsize 29, out_qsize 0\n",
      "2022-02-09 14:53:48,288 : INFO : EPOCH 4 - PROGRESS: at 14.81% examples, 549155 words/s, in_qsize 30, out_qsize 0\n",
      "2022-02-09 14:53:49,303 : INFO : EPOCH 4 - PROGRESS: at 20.93% examples, 599837 words/s, in_qsize 30, out_qsize 2\n",
      "2022-02-09 14:53:50,305 : INFO : EPOCH 4 - PROGRESS: at 28.40% examples, 666245 words/s, in_qsize 29, out_qsize 0\n",
      "2022-02-09 14:53:51,319 : INFO : EPOCH 4 - PROGRESS: at 35.21% examples, 698716 words/s, in_qsize 30, out_qsize 0\n",
      "2022-02-09 14:53:52,323 : INFO : EPOCH 4 - PROGRESS: at 41.62% examples, 714943 words/s, in_qsize 27, out_qsize 2\n",
      "2022-02-09 14:53:53,335 : INFO : EPOCH 4 - PROGRESS: at 48.62% examples, 735962 words/s, in_qsize 29, out_qsize 0\n",
      "2022-02-09 14:53:54,349 : INFO : EPOCH 4 - PROGRESS: at 56.03% examples, 758262 words/s, in_qsize 29, out_qsize 0\n",
      "2022-02-09 14:53:55,356 : INFO : EPOCH 4 - PROGRESS: at 63.20% examples, 773147 words/s, in_qsize 29, out_qsize 0\n",
      "2022-02-09 14:53:56,363 : INFO : EPOCH 4 - PROGRESS: at 71.02% examples, 792696 words/s, in_qsize 29, out_qsize 0\n",
      "2022-02-09 14:53:57,368 : INFO : EPOCH 4 - PROGRESS: at 78.84% examples, 807796 words/s, in_qsize 27, out_qsize 2\n",
      "2022-02-09 14:53:58,372 : INFO : EPOCH 4 - PROGRESS: at 87.01% examples, 825236 words/s, in_qsize 28, out_qsize 1\n",
      "2022-02-09 14:53:59,372 : INFO : EPOCH 4 - PROGRESS: at 94.53% examples, 834638 words/s, in_qsize 22, out_qsize 7\n",
      "2022-02-09 14:54:00,389 : INFO : EPOCH 4 - PROGRESS: at 98.41% examples, 811840 words/s, in_qsize 27, out_qsize 0\n",
      "2022-02-09 14:54:00,519 : INFO : worker thread finished; awaiting finish of 14 more threads\n",
      "2022-02-09 14:54:00,520 : INFO : worker thread finished; awaiting finish of 13 more threads\n",
      "2022-02-09 14:54:00,525 : INFO : worker thread finished; awaiting finish of 12 more threads\n",
      "2022-02-09 14:54:00,527 : INFO : worker thread finished; awaiting finish of 11 more threads\n",
      "2022-02-09 14:54:00,556 : INFO : worker thread finished; awaiting finish of 10 more threads\n",
      "2022-02-09 14:54:00,559 : INFO : worker thread finished; awaiting finish of 9 more threads\n",
      "2022-02-09 14:54:00,563 : INFO : worker thread finished; awaiting finish of 8 more threads\n",
      "2022-02-09 14:54:00,564 : INFO : worker thread finished; awaiting finish of 7 more threads\n",
      "2022-02-09 14:54:00,565 : INFO : worker thread finished; awaiting finish of 6 more threads\n",
      "2022-02-09 14:54:00,566 : INFO : worker thread finished; awaiting finish of 5 more threads\n",
      "2022-02-09 14:54:00,579 : INFO : worker thread finished; awaiting finish of 4 more threads\n",
      "2022-02-09 14:54:00,589 : INFO : worker thread finished; awaiting finish of 3 more threads\n",
      "2022-02-09 14:54:00,591 : INFO : worker thread finished; awaiting finish of 2 more threads\n",
      "2022-02-09 14:54:00,593 : INFO : worker thread finished; awaiting finish of 1 more threads\n",
      "2022-02-09 14:54:00,595 : INFO : worker thread finished; awaiting finish of 0 more threads\n",
      "2022-02-09 14:54:00,595 : INFO : EPOCH - 4 : training on 17005207 raw words (12820181 effective words) took 15.7s, 814056 effective words/s\n",
      "2022-02-09 14:54:02,376 : INFO : EPOCH 5 - PROGRESS: at 0.06% examples, 4261 words/s, in_qsize 29, out_qsize 0\n",
      "2022-02-09 14:54:03,394 : INFO : EPOCH 5 - PROGRESS: at 7.58% examples, 346126 words/s, in_qsize 27, out_qsize 2\n",
      "2022-02-09 14:54:04,398 : INFO : EPOCH 5 - PROGRESS: at 15.40% examples, 517507 words/s, in_qsize 30, out_qsize 1\n",
      "2022-02-09 14:54:05,409 : INFO : EPOCH 5 - PROGRESS: at 22.57% examples, 599567 words/s, in_qsize 28, out_qsize 1\n",
      "2022-02-09 14:54:06,415 : INFO : EPOCH 5 - PROGRESS: at 30.10% examples, 663580 words/s, in_qsize 29, out_qsize 0\n",
      "2022-02-09 14:54:07,414 : INFO : EPOCH 5 - PROGRESS: at 37.68% examples, 710221 words/s, in_qsize 28, out_qsize 0\n",
      "2022-02-09 14:54:08,427 : INFO : EPOCH 5 - PROGRESS: at 45.09% examples, 740060 words/s, in_qsize 29, out_qsize 0\n",
      "2022-02-09 14:54:09,431 : INFO : EPOCH 5 - PROGRESS: at 52.15% examples, 758762 words/s, in_qsize 29, out_qsize 0\n",
      "2022-02-09 14:54:10,451 : INFO : EPOCH 5 - PROGRESS: at 59.61% examples, 778036 words/s, in_qsize 29, out_qsize 0\n",
      "2022-02-09 14:54:11,454 : INFO : EPOCH 5 - PROGRESS: at 67.43% examples, 798478 words/s, in_qsize 29, out_qsize 0\n",
      "2022-02-09 14:54:12,454 : INFO : EPOCH 5 - PROGRESS: at 74.54% examples, 808252 words/s, in_qsize 28, out_qsize 1\n",
      "2022-02-09 14:54:13,460 : INFO : EPOCH 5 - PROGRESS: at 81.36% examples, 811582 words/s, in_qsize 29, out_qsize 0\n",
      "2022-02-09 14:54:14,463 : INFO : EPOCH 5 - PROGRESS: at 88.24% examples, 816585 words/s, in_qsize 29, out_qsize 0\n",
      "2022-02-09 14:54:15,486 : INFO : EPOCH 5 - PROGRESS: at 95.65% examples, 824084 words/s, in_qsize 30, out_qsize 1\n",
      "2022-02-09 14:54:16,488 : INFO : EPOCH 5 - PROGRESS: at 98.41% examples, 794138 words/s, in_qsize 26, out_qsize 1\n",
      "2022-02-09 14:54:16,598 : INFO : worker thread finished; awaiting finish of 14 more threads\n",
      "2022-02-09 14:54:16,607 : INFO : worker thread finished; awaiting finish of 13 more threads\n",
      "2022-02-09 14:54:16,624 : INFO : worker thread finished; awaiting finish of 12 more threads\n",
      "2022-02-09 14:54:16,636 : INFO : worker thread finished; awaiting finish of 11 more threads\n",
      "2022-02-09 14:54:16,639 : INFO : worker thread finished; awaiting finish of 10 more threads\n",
      "2022-02-09 14:54:16,641 : INFO : worker thread finished; awaiting finish of 9 more threads\n",
      "2022-02-09 14:54:16,642 : INFO : worker thread finished; awaiting finish of 8 more threads\n",
      "2022-02-09 14:54:16,642 : INFO : worker thread finished; awaiting finish of 7 more threads\n",
      "2022-02-09 14:54:16,643 : INFO : worker thread finished; awaiting finish of 6 more threads\n",
      "2022-02-09 14:54:16,648 : INFO : worker thread finished; awaiting finish of 5 more threads\n",
      "2022-02-09 14:54:16,659 : INFO : worker thread finished; awaiting finish of 4 more threads\n",
      "2022-02-09 14:54:16,670 : INFO : worker thread finished; awaiting finish of 3 more threads\n",
      "2022-02-09 14:54:16,673 : INFO : worker thread finished; awaiting finish of 2 more threads\n",
      "2022-02-09 14:54:16,674 : INFO : worker thread finished; awaiting finish of 1 more threads\n",
      "2022-02-09 14:54:16,676 : INFO : worker thread finished; awaiting finish of 0 more threads\n",
      "2022-02-09 14:54:16,676 : INFO : EPOCH - 5 : training on 17005207 raw words (12819208 effective words) took 16.1s, 797390 effective words/s\n",
      "2022-02-09 14:54:16,677 : INFO : Word2Vec lifecycle event {'msg': 'training on 85026035 raw words (64093591 effective words) took 81.4s, 787280 effective words/s', 'datetime': '2022-02-09T14:54:16.677465', 'gensim': '4.1.2', 'python': '3.7.5 (default, Sep 30 2021, 17:02:25) \\n[GCC 4.8.5 20150623 (Red Hat 4.8.5-44)]', 'platform': 'Linux-3.10.0-1160.42.2.el7.x86_64-x86_64-with-centos-7.9.2009-Core', 'event': 'train'}\n",
      "2022-02-09 14:54:16,678 : INFO : Word2Vec lifecycle event {'params': 'Word2Vec(vocab=253854, vector_size=100, alpha=0.025)', 'datetime': '2022-02-09T14:54:16.678164', 'gensim': '4.1.2', 'python': '3.7.5 (default, Sep 30 2021, 17:02:25) \\n[GCC 4.8.5 20150623 (Red Hat 4.8.5-44)]', 'platform': 'Linux-3.10.0-1160.42.2.el7.x86_64-x86_64-with-centos-7.9.2009-Core', 'event': 'created'}\n"
     ]
    }
   ],
   "source": [
    "# 로그 출력\n",
    "logging.basicConfig(format='%(asctime)s : %(levelname)s : %(message)s', level = logging.INFO)\n",
    "sentences = word2vec.LineSentence(source = 'D:/NLP/W2V/text8/corpus/text8'\n",
    "                                 ,max_sentence_length=10000\n",
    "                                 ,limit=None)\n",
    "# 데이터링크: http://mattmahoney.net/dc/textdata.html\n",
    "# sentences = word2vec.Text8Corpus('D:/NLP/W2V/text8/corpus/text8')"
   ]
  },
  {
   "cell_type": "code",
   "execution_count": null,
   "metadata": {},
   "outputs": [],
   "source": [
    "# 모델 구성\n",
    "model = word2vec.Word2Vec(\n",
    "    sentences   # 문장\n",
    "    , vector_size=100   # 차원 크기\n",
    "    , min_count = 1     # 최소 빈도수\n",
    "    , window=10         # 윈도우 사이즈\n",
    "    , hs = 0            # 소프트맥스 함수 사용\n",
    "    , epochs=5         # default=5\n",
    "    , workers=15      # default=3\n",
    "    , max_vocab_size=None # default=None\n",
    "    , sg = 0            # 0 CBOW, 1 skip-gram\n",
    ")\n",
    "\n",
    "# model save\n",
    "# model.save('sample.model')\n",
    "\n",
    "# model load\n",
    "# model = word2vec.Word2Vec.load('sample.model')\n",
    "\n",
    "# 메모리 공간 해제\n",
    "# word_vectorcs = model.wv\n",
    "# del model"
   ]
  },
  {
   "cell_type": "code",
   "execution_count": 53,
   "metadata": {},
   "outputs": [
    {
     "data": {
      "text/plain": [
       "(100,)"
      ]
     },
     "execution_count": 53,
     "metadata": {},
     "output_type": "execute_result"
    }
   ],
   "source": [
    "# 단어의 벡터 표현값\n",
    "model.wv['money'].shape"
   ]
  },
  {
   "cell_type": "code",
   "execution_count": 54,
   "metadata": {},
   "outputs": [
    {
     "data": {
      "text/plain": [
       "[('sell', 0.7670192122459412),\n",
       " ('attract', 0.7492015957832336),\n",
       " ('buy', 0.7448435425758362),\n",
       " ('raise', 0.7380569577217102),\n",
       " ('afford', 0.7318676114082336),\n",
       " ('deliver', 0.7143304944038391),\n",
       " ('collect', 0.712221086025238),\n",
       " ('distribute', 0.7034609913825989),\n",
       " ('pay', 0.6974276900291443),\n",
       " ('manage', 0.6965458989143372)]"
      ]
     },
     "execution_count": 54,
     "metadata": {},
     "output_type": "execute_result"
    }
   ],
   "source": [
    "# 유사 단어 검색\n",
    "model.wv.most_similar('invest', topn=10)"
   ]
  },
  {
   "cell_type": "code",
   "execution_count": 55,
   "metadata": {},
   "outputs": [
    {
     "data": {
      "text/plain": [
       "[('foods', 0.7670317888259888),\n",
       " ('meat', 0.7435572147369385),\n",
       " ('vegetables', 0.7422807216644287),\n",
       " ('drinks', 0.7345496416091919),\n",
       " ('dairy', 0.7265526056289673)]"
      ]
     },
     "execution_count": 55,
     "metadata": {},
     "output_type": "execute_result"
    }
   ],
   "source": [
    "# 단어 벡터값 연산하여 코사인 유사도 반환\n",
    "# -1~1 사이\n",
    "model.wv.most_similar(\n",
    "    positive=['coffee', 'meals'] # 의미 더하기\n",
    "    , negative=['ice'] # 의미 빼기\n",
    "    ,topn=5 # 상위 n개 단어\n",
    "    )"
   ]
  },
  {
   "cell_type": "code",
   "execution_count": 77,
   "metadata": {},
   "outputs": [
    {
     "data": {
      "text/plain": [
       "2972"
      ]
     },
     "execution_count": 77,
     "metadata": {},
     "output_type": "execute_result"
    }
   ],
   "source": [
    "# 인덱스 번호 검색\n",
    "model.wv.key_to_index['bird']"
   ]
  }
 ],
 "metadata": {
  "interpreter": {
   "hash": "234dabe8e40c2039a03253ecba783ebfe49b2278b634949a7dde498a3c83abe1"
  },
  "kernelspec": {
   "display_name": "Python 3.7.5 ('yr3.7': venv)",
   "language": "python",
   "name": "python3"
  },
  "language_info": {
   "codemirror_mode": {
    "name": "ipython",
    "version": 3
   },
   "file_extension": ".py",
   "mimetype": "text/x-python",
   "name": "python",
   "nbconvert_exporter": "python",
   "pygments_lexer": "ipython3",
   "version": "3.7.5"
  },
  "orig_nbformat": 4
 },
 "nbformat": 4,
 "nbformat_minor": 2
}
