{
 "cells": [
  {
   "cell_type": "code",
   "execution_count": 2,
   "metadata": {},
   "outputs": [],
   "source": [
    "# 데이터셋 출처: https://aihub.or.kr/aidata/7978\n",
    "# 참고 코드: https://wikidocs.net/50739"
   ]
  },
  {
   "cell_type": "code",
   "execution_count": 32,
   "metadata": {},
   "outputs": [],
   "source": [
    "import pandas as pd\n",
    "import matplotlib.pyplot as plt\n",
    "from gensim.models.word2vec import Word2Vec\n",
    "from konlpy.tag import Hannanum, Kkma, Komoran, Twitter, Okt\n",
    "hnn, kkma, komo, tw, okt = Hannanum(), Kkma(), Komoran(), Twitter(), Okt()\n",
    "import re"
   ]
  },
  {
   "cell_type": "code",
   "execution_count": 14,
   "metadata": {},
   "outputs": [],
   "source": [
    "train_df = pd.read_excel('/ntdev/youngri/YR_LAB/embedding_search/W2V/corpus/감성대화말뭉치(최종데이터)_Training.xlsx')\n",
    "train_df.drop(columns=['번호','연령', '성별', '상황키워드', '신체질환','감정_대분류','감정_소분류'], inplace=True)"
   ]
  },
  {
   "cell_type": "code",
   "execution_count": 15,
   "metadata": {},
   "outputs": [
    {
     "data": {
      "text/html": [
       "<div>\n",
       "<style scoped>\n",
       "    .dataframe tbody tr th:only-of-type {\n",
       "        vertical-align: middle;\n",
       "    }\n",
       "\n",
       "    .dataframe tbody tr th {\n",
       "        vertical-align: top;\n",
       "    }\n",
       "\n",
       "    .dataframe thead th {\n",
       "        text-align: right;\n",
       "    }\n",
       "</style>\n",
       "<table border=\"1\" class=\"dataframe\">\n",
       "  <thead>\n",
       "    <tr style=\"text-align: right;\">\n",
       "      <th></th>\n",
       "      <th>사람문장1</th>\n",
       "      <th>시스템응답1</th>\n",
       "      <th>사람문장2</th>\n",
       "      <th>시스템응답2</th>\n",
       "      <th>사람문장3</th>\n",
       "      <th>시스템응답3</th>\n",
       "      <th>사람문장4</th>\n",
       "      <th>시스템응답4</th>\n",
       "    </tr>\n",
       "  </thead>\n",
       "  <tbody>\n",
       "    <tr>\n",
       "      <th>0</th>\n",
       "      <td>아내가 드디어 출산하게 되어서 정말 신이 나.</td>\n",
       "      <td>아내분이 출산을 하시는군요. 정말 축하드려요.</td>\n",
       "      <td>아 지금 정말 신이 나.</td>\n",
       "      <td>잘 된 일이네요.</td>\n",
       "      <td>아기가 점점 클게 벌써 기대가 되네. 내가 많이 놀아줘야지.</td>\n",
       "      <td>좋은 아빠가 되실 거 같아요. 진심으로 축하드려요.</td>\n",
       "      <td>NaN</td>\n",
       "      <td>NaN</td>\n",
       "    </tr>\n",
       "    <tr>\n",
       "      <th>1</th>\n",
       "      <td>당뇨랑 합병증 때문에 먹어야 할 약이 열 가지가 넘어가니까 스트레스야.</td>\n",
       "      <td>약 종류가 많아 번거로우시겠어요.</td>\n",
       "      <td>건강할 때 관리 좀 잘할걸 하는 생각이 들더라고.</td>\n",
       "      <td>현재 상황에서 변화를 주기 위해 어떻게 하면 될까요?</td>\n",
       "      <td>약을 잘 챙겨 먹고 나을 수 있도록 노력해야지.</td>\n",
       "      <td>약을 잘 챙겨 먹어 건강해지시길 바랄게요.</td>\n",
       "      <td>NaN</td>\n",
       "      <td>NaN</td>\n",
       "    </tr>\n",
       "    <tr>\n",
       "      <th>2</th>\n",
       "      <td>고등학교에 올라오니 중학교 때보다 수업이 갑자기 어려워져서 당황스러워.</td>\n",
       "      <td>고등학교 수업이 중학교 때와는 다르게 갑자기 어려워서 당황스러우시군요.</td>\n",
       "      <td>아직 학기 초인데 내가 수업에 잘 따라갈 수 있을지 걱정돼.</td>\n",
       "      <td>이 상황에서 할 수 있는 게 어떤 것이 있을까요?</td>\n",
       "      <td>중학교 수업을 들을 때보다 훨씬 더 열심히 할 거야.</td>\n",
       "      <td>수업을 어떤 방식으로 열심히 듣는게 좋을까요?</td>\n",
       "      <td>선생님이 강조하신 부분을 필기하고 집에서 매일 수업 내용을 복습하려고 해.</td>\n",
       "      <td>열심히 해서 좋은 결과가 있었으면 좋겠어요.</td>\n",
       "    </tr>\n",
       "    <tr>\n",
       "      <th>3</th>\n",
       "      <td>재취업이 돼서 받게 된 첫 월급으로 온 가족이 외식을 할 예정이야. 너무 행복해.</td>\n",
       "      <td>재취업 후 첫 월급이라 정말 기쁘시겠어요.</td>\n",
       "      <td>퇴직 후 다시는 돈을 못 벌 줄 알았는데 이렇게 월급으로 가족에게 맛있는 밥을 살 ...</td>\n",
       "      <td>이 기분을 유지하려면 어떻게 해야 할까요?</td>\n",
       "      <td>회사생활을 열심히 해서 계속 월급을 받을거야!</td>\n",
       "      <td>계속 원하시는 대로 회사생활이 이어지길 바랄게요.</td>\n",
       "      <td>NaN</td>\n",
       "      <td>NaN</td>\n",
       "    </tr>\n",
       "    <tr>\n",
       "      <th>4</th>\n",
       "      <td>빚을 드디어 다 갚게 되어서 이제야 안도감이 들어.</td>\n",
       "      <td>기분 좋으시겠어요. 앞으로는 어떻게 하실 생각이신가요?</td>\n",
       "      <td>빚도 다 갚았으니 당분간은 아무 생각도 안 하며 살고 싶어.</td>\n",
       "      <td>빚도 다 갚았으니 당분간은 아무 생각도 안 하며 살고 싶으시군요.</td>\n",
       "      <td>NaN</td>\n",
       "      <td>NaN</td>\n",
       "      <td>NaN</td>\n",
       "      <td>NaN</td>\n",
       "    </tr>\n",
       "  </tbody>\n",
       "</table>\n",
       "</div>"
      ],
      "text/plain": [
       "                                           사람문장1  \\\n",
       "0                      아내가 드디어 출산하게 되어서 정말 신이 나.   \n",
       "1        당뇨랑 합병증 때문에 먹어야 할 약이 열 가지가 넘어가니까 스트레스야.   \n",
       "2        고등학교에 올라오니 중학교 때보다 수업이 갑자기 어려워져서 당황스러워.   \n",
       "3  재취업이 돼서 받게 된 첫 월급으로 온 가족이 외식을 할 예정이야. 너무 행복해.   \n",
       "4                   빚을 드디어 다 갚게 되어서 이제야 안도감이 들어.   \n",
       "\n",
       "                                    시스템응답1  \\\n",
       "0                아내분이 출산을 하시는군요. 정말 축하드려요.   \n",
       "1                       약 종류가 많아 번거로우시겠어요.   \n",
       "2  고등학교 수업이 중학교 때와는 다르게 갑자기 어려워서 당황스러우시군요.   \n",
       "3                  재취업 후 첫 월급이라 정말 기쁘시겠어요.   \n",
       "4           기분 좋으시겠어요. 앞으로는 어떻게 하실 생각이신가요?   \n",
       "\n",
       "                                               사람문장2  \\\n",
       "0                                      아 지금 정말 신이 나.   \n",
       "1                        건강할 때 관리 좀 잘할걸 하는 생각이 들더라고.   \n",
       "2                  아직 학기 초인데 내가 수업에 잘 따라갈 수 있을지 걱정돼.   \n",
       "3  퇴직 후 다시는 돈을 못 벌 줄 알았는데 이렇게 월급으로 가족에게 맛있는 밥을 살 ...   \n",
       "4                  빚도 다 갚았으니 당분간은 아무 생각도 안 하며 살고 싶어.   \n",
       "\n",
       "                                 시스템응답2                               사람문장3  \\\n",
       "0                             잘 된 일이네요.  아기가 점점 클게 벌써 기대가 되네. 내가 많이 놀아줘야지.    \n",
       "1         현재 상황에서 변화를 주기 위해 어떻게 하면 될까요?          약을 잘 챙겨 먹고 나을 수 있도록 노력해야지.   \n",
       "2           이 상황에서 할 수 있는 게 어떤 것이 있을까요?       중학교 수업을 들을 때보다 훨씬 더 열심히 할 거야.   \n",
       "3               이 기분을 유지하려면 어떻게 해야 할까요?           회사생활을 열심히 해서 계속 월급을 받을거야!   \n",
       "4  빚도 다 갚았으니 당분간은 아무 생각도 안 하며 살고 싶으시군요.                                 NaN   \n",
       "\n",
       "                         시스템응답3                                      사람문장4  \\\n",
       "0  좋은 아빠가 되실 거 같아요. 진심으로 축하드려요.                                        NaN   \n",
       "1       약을 잘 챙겨 먹어 건강해지시길 바랄게요.                                        NaN   \n",
       "2    수업을 어떤 방식으로 열심히 듣는게 좋을까요?   선생님이 강조하신 부분을 필기하고 집에서 매일 수업 내용을 복습하려고 해.   \n",
       "3   계속 원하시는 대로 회사생활이 이어지길 바랄게요.                                        NaN   \n",
       "4                           NaN                                        NaN   \n",
       "\n",
       "                     시스템응답4  \n",
       "0                       NaN  \n",
       "1                       NaN  \n",
       "2  열심히 해서 좋은 결과가 있었으면 좋겠어요.  \n",
       "3                       NaN  \n",
       "4                       NaN  "
      ]
     },
     "execution_count": 15,
     "metadata": {},
     "output_type": "execute_result"
    }
   ],
   "source": [
    "train_df.head()"
   ]
  },
  {
   "cell_type": "code",
   "execution_count": 57,
   "metadata": {},
   "outputs": [],
   "source": [
    "# 테스트로 진행\n",
    "\n",
    "# len_r, len_c = 2, 8\n",
    "# test_sents=[]\n",
    "\n",
    "# for r in range(len_r):\n",
    "#     for c in range(len_c):\n",
    "#         if type(train_df.iloc[r][c]) == str:\n",
    "#             new_sent = re.sub(r\"[^ㄱ-ㅎㅏ-ㅣ가-힣 ]\",\"\",train_df.iloc[r][c])\n",
    "#             test_sents.append(kkma.morphs(new_sent))\n",
    "\n",
    "# test_sents\n",
    "\n",
    "# orga = [hnn, kkma, komo, tw, okt]\n",
    "# [i.morphs(test_sents[0]) for i in orga]\n",
    "# 일단 kkma 으로 진행\n",
    "\n",
    "# model = Word2Vec(sentences = test_sents, vector_size = 100, window = 5, min_count = 1, workers = 5, sg = 0)\n",
    "# model.wv.key_to_index"
   ]
  },
  {
   "cell_type": "code",
   "execution_count": 58,
   "metadata": {},
   "outputs": [
    {
     "name": "stdout",
     "output_type": "stream",
     "text": [
      "0.0\n"
     ]
    },
    {
     "ename": "KeyboardInterrupt",
     "evalue": "",
     "output_type": "error",
     "traceback": [
      "\u001b[0;31m---------------------------------------------------------------------------\u001b[0m",
      "\u001b[0;31mKeyboardInterrupt\u001b[0m                         Traceback (most recent call last)",
      "\u001b[0;32m/tmp/ipykernel_145369/675144908.py\u001b[0m in \u001b[0;36m<module>\u001b[0;34m\u001b[0m\n\u001b[1;32m      9\u001b[0m         \u001b[0;32mif\u001b[0m \u001b[0mtype\u001b[0m\u001b[0;34m(\u001b[0m\u001b[0mtrain_df\u001b[0m\u001b[0;34m.\u001b[0m\u001b[0miloc\u001b[0m\u001b[0;34m[\u001b[0m\u001b[0mr\u001b[0m\u001b[0;34m]\u001b[0m\u001b[0;34m[\u001b[0m\u001b[0mc\u001b[0m\u001b[0;34m]\u001b[0m\u001b[0;34m)\u001b[0m \u001b[0;34m==\u001b[0m \u001b[0mstr\u001b[0m\u001b[0;34m:\u001b[0m\u001b[0;34m\u001b[0m\u001b[0;34m\u001b[0m\u001b[0m\n\u001b[1;32m     10\u001b[0m             \u001b[0mnew_sent\u001b[0m \u001b[0;34m=\u001b[0m \u001b[0mre\u001b[0m\u001b[0;34m.\u001b[0m\u001b[0msub\u001b[0m\u001b[0;34m(\u001b[0m\u001b[0;34mr\"[^ㄱ-ㅎㅏ-ㅣ가-힣 ]\"\u001b[0m\u001b[0;34m,\u001b[0m\u001b[0;34m\"\"\u001b[0m\u001b[0;34m,\u001b[0m\u001b[0mtrain_df\u001b[0m\u001b[0;34m.\u001b[0m\u001b[0miloc\u001b[0m\u001b[0;34m[\u001b[0m\u001b[0mr\u001b[0m\u001b[0;34m]\u001b[0m\u001b[0;34m[\u001b[0m\u001b[0mc\u001b[0m\u001b[0;34m]\u001b[0m\u001b[0;34m)\u001b[0m\u001b[0;34m\u001b[0m\u001b[0;34m\u001b[0m\u001b[0m\n\u001b[0;32m---> 11\u001b[0;31m             \u001b[0muse_sents\u001b[0m\u001b[0;34m.\u001b[0m\u001b[0mappend\u001b[0m\u001b[0;34m(\u001b[0m\u001b[0mkkma\u001b[0m\u001b[0;34m.\u001b[0m\u001b[0mmorphs\u001b[0m\u001b[0;34m(\u001b[0m\u001b[0mnew_sent\u001b[0m\u001b[0;34m)\u001b[0m\u001b[0;34m)\u001b[0m\u001b[0;34m\u001b[0m\u001b[0;34m\u001b[0m\u001b[0m\n\u001b[0m\u001b[1;32m     12\u001b[0m \u001b[0;34m\u001b[0m\u001b[0m\n\u001b[1;32m     13\u001b[0m \u001b[0mprint\u001b[0m\u001b[0;34m(\u001b[0m\u001b[0;34m'--done--'\u001b[0m\u001b[0;34m)\u001b[0m\u001b[0;34m\u001b[0m\u001b[0;34m\u001b[0m\u001b[0m\n",
      "\u001b[0;32m~/YR_LAB/env/yr3.7/lib/python3.7/site-packages/konlpy/tag/_kkma.py\u001b[0m in \u001b[0;36mmorphs\u001b[0;34m(self, phrase)\u001b[0m\n\u001b[1;32m     93\u001b[0m         \u001b[0;34m\"\"\"Parse phrase to morphemes.\"\"\"\u001b[0m\u001b[0;34m\u001b[0m\u001b[0;34m\u001b[0m\u001b[0m\n\u001b[1;32m     94\u001b[0m \u001b[0;34m\u001b[0m\u001b[0m\n\u001b[0;32m---> 95\u001b[0;31m         \u001b[0;32mreturn\u001b[0m \u001b[0;34m[\u001b[0m\u001b[0ms\u001b[0m \u001b[0;32mfor\u001b[0m \u001b[0ms\u001b[0m\u001b[0;34m,\u001b[0m \u001b[0mt\u001b[0m \u001b[0;32min\u001b[0m \u001b[0mself\u001b[0m\u001b[0;34m.\u001b[0m\u001b[0mpos\u001b[0m\u001b[0;34m(\u001b[0m\u001b[0mphrase\u001b[0m\u001b[0;34m)\u001b[0m\u001b[0;34m]\u001b[0m\u001b[0;34m\u001b[0m\u001b[0;34m\u001b[0m\u001b[0m\n\u001b[0m\u001b[1;32m     96\u001b[0m \u001b[0;34m\u001b[0m\u001b[0m\n\u001b[1;32m     97\u001b[0m     \u001b[0;32mdef\u001b[0m \u001b[0msentences\u001b[0m\u001b[0;34m(\u001b[0m\u001b[0mself\u001b[0m\u001b[0;34m,\u001b[0m \u001b[0mphrase\u001b[0m\u001b[0;34m)\u001b[0m\u001b[0;34m:\u001b[0m\u001b[0;34m\u001b[0m\u001b[0;34m\u001b[0m\u001b[0m\n",
      "\u001b[0;32m~/YR_LAB/env/yr3.7/lib/python3.7/site-packages/konlpy/tag/_kkma.py\u001b[0m in \u001b[0;36mpos\u001b[0;34m(self, phrase, flatten, join)\u001b[0m\n\u001b[1;32m     64\u001b[0m         \u001b[0mvalidate_phrase_inputs\u001b[0m\u001b[0;34m(\u001b[0m\u001b[0mphrase\u001b[0m\u001b[0;34m)\u001b[0m\u001b[0;34m\u001b[0m\u001b[0;34m\u001b[0m\u001b[0m\n\u001b[1;32m     65\u001b[0m \u001b[0;34m\u001b[0m\u001b[0m\n\u001b[0;32m---> 66\u001b[0;31m         \u001b[0msentences\u001b[0m \u001b[0;34m=\u001b[0m \u001b[0mself\u001b[0m\u001b[0;34m.\u001b[0m\u001b[0mjki\u001b[0m\u001b[0;34m.\u001b[0m\u001b[0mmorphAnalyzer\u001b[0m\u001b[0;34m(\u001b[0m\u001b[0mphrase\u001b[0m\u001b[0;34m)\u001b[0m\u001b[0;34m\u001b[0m\u001b[0;34m\u001b[0m\u001b[0m\n\u001b[0m\u001b[1;32m     67\u001b[0m         \u001b[0mmorphemes\u001b[0m \u001b[0;34m=\u001b[0m \u001b[0;34m[\u001b[0m\u001b[0;34m]\u001b[0m\u001b[0;34m\u001b[0m\u001b[0;34m\u001b[0m\u001b[0m\n\u001b[1;32m     68\u001b[0m         \u001b[0;32mif\u001b[0m \u001b[0;32mnot\u001b[0m \u001b[0msentences\u001b[0m\u001b[0;34m:\u001b[0m\u001b[0;34m\u001b[0m\u001b[0;34m\u001b[0m\u001b[0m\n",
      "\u001b[0;31mKeyboardInterrupt\u001b[0m: "
     ]
    }
   ],
   "source": [
    "len_r, len_c = train_df.shape\n",
    "# (40879, 8)\n",
    "\n",
    "use_sents=[]\n",
    "\n",
    "for r in range(len_r):\n",
    "    if r % 100 == 0 : print(r*100/len_r)\n",
    "    for c in range(len_c):\n",
    "        if type(train_df.iloc[r][c]) == str:\n",
    "            new_sent = re.sub(r\"[^ㄱ-ㅎㅏ-ㅣ가-힣 ]\",\"\",train_df.iloc[r][c])\n",
    "            use_sents.append(kkma.morphs(new_sent))\n",
    "\n",
    "print('--done--')"
   ]
  }
 ],
 "metadata": {
  "interpreter": {
   "hash": "234dabe8e40c2039a03253ecba783ebfe49b2278b634949a7dde498a3c83abe1"
  },
  "kernelspec": {
   "display_name": "Python 3.7.5 ('yr3.7': venv)",
   "language": "python",
   "name": "python3"
  },
  "language_info": {
   "codemirror_mode": {
    "name": "ipython",
    "version": 3
   },
   "file_extension": ".py",
   "mimetype": "text/x-python",
   "name": "python",
   "nbconvert_exporter": "python",
   "pygments_lexer": "ipython3",
   "version": "3.7.5"
  },
  "orig_nbformat": 4
 },
 "nbformat": 4,
 "nbformat_minor": 2
}
