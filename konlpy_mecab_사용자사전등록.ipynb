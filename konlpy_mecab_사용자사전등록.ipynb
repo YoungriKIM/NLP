{
 "cells": [
  {
   "cell_type": "code",
   "execution_count": null,
   "metadata": {},
   "outputs": [],
   "source": [
    "# mecab 사용자 사전 등록 방법 정리 파일"
   ]
  },
  {
   "cell_type": "code",
   "execution_count": 2,
   "metadata": {},
   "outputs": [
    {
     "name": "stderr",
     "output_type": "stream",
     "text": [
      "/ntdev/youngri/YR_LAB/env/yr3.7/lib/python3.7/site-packages/pandas/compat/__init__.py:124: UserWarning: Could not import the lzma module. Your installed Python is incomplete. Attempting to use lzma compression will result in a RuntimeError.\n",
      "  warnings.warn(msg)\n"
     ]
    },
    {
     "data": {
      "text/html": [
       "<div>\n",
       "<style scoped>\n",
       "    .dataframe tbody tr th:only-of-type {\n",
       "        vertical-align: middle;\n",
       "    }\n",
       "\n",
       "    .dataframe tbody tr th {\n",
       "        vertical-align: top;\n",
       "    }\n",
       "\n",
       "    .dataframe thead th {\n",
       "        text-align: right;\n",
       "    }\n",
       "</style>\n",
       "<table border=\"1\" class=\"dataframe\">\n",
       "  <thead>\n",
       "    <tr style=\"text-align: right;\">\n",
       "      <th></th>\n",
       "      <th>단어</th>\n",
       "      <th>좌문맥ID</th>\n",
       "      <th>우문맥ID</th>\n",
       "      <th>가중치(단어비용)</th>\n",
       "      <th>품사태그</th>\n",
       "      <th>의미분류</th>\n",
       "      <th>종성유무</th>\n",
       "      <th>읽기</th>\n",
       "      <th>타입</th>\n",
       "      <th>첫품사</th>\n",
       "      <th>마지막품사</th>\n",
       "      <th>표현</th>\n",
       "      <th>표현2</th>\n",
       "    </tr>\n",
       "  </thead>\n",
       "  <tbody>\n",
       "    <tr>\n",
       "      <th>0</th>\n",
       "      <td>상담사</td>\n",
       "      <td>NaN</td>\n",
       "      <td>NaN</td>\n",
       "      <td>1000</td>\n",
       "      <td>NNG</td>\n",
       "      <td>*</td>\n",
       "      <td>F</td>\n",
       "      <td>상담사</td>\n",
       "      <td>*</td>\n",
       "      <td>*</td>\n",
       "      <td>*</td>\n",
       "      <td>*</td>\n",
       "      <td>*</td>\n",
       "    </tr>\n",
       "    <tr>\n",
       "      <th>1</th>\n",
       "      <td>해지</td>\n",
       "      <td>NaN</td>\n",
       "      <td>NaN</td>\n",
       "      <td>1000</td>\n",
       "      <td>NNG</td>\n",
       "      <td>*</td>\n",
       "      <td>F</td>\n",
       "      <td>해지</td>\n",
       "      <td>*</td>\n",
       "      <td>*</td>\n",
       "      <td>*</td>\n",
       "      <td>*</td>\n",
       "      <td>*</td>\n",
       "    </tr>\n",
       "    <tr>\n",
       "      <th>2</th>\n",
       "      <td>기가</td>\n",
       "      <td>NaN</td>\n",
       "      <td>NaN</td>\n",
       "      <td>1000</td>\n",
       "      <td>NNG</td>\n",
       "      <td>*</td>\n",
       "      <td>F</td>\n",
       "      <td>기가</td>\n",
       "      <td>*</td>\n",
       "      <td>*</td>\n",
       "      <td>*</td>\n",
       "      <td>*</td>\n",
       "      <td>*</td>\n",
       "    </tr>\n",
       "    <tr>\n",
       "      <th>3</th>\n",
       "      <td>파이브지</td>\n",
       "      <td>NaN</td>\n",
       "      <td>NaN</td>\n",
       "      <td>1000</td>\n",
       "      <td>NNG</td>\n",
       "      <td>*</td>\n",
       "      <td>F</td>\n",
       "      <td>파이브지</td>\n",
       "      <td>*</td>\n",
       "      <td>*</td>\n",
       "      <td>*</td>\n",
       "      <td>*</td>\n",
       "      <td>*</td>\n",
       "    </tr>\n",
       "    <tr>\n",
       "      <th>4</th>\n",
       "      <td>리모콘</td>\n",
       "      <td>NaN</td>\n",
       "      <td>NaN</td>\n",
       "      <td>1000</td>\n",
       "      <td>NNG</td>\n",
       "      <td>*</td>\n",
       "      <td>T</td>\n",
       "      <td>리모콘</td>\n",
       "      <td>*</td>\n",
       "      <td>*</td>\n",
       "      <td>*</td>\n",
       "      <td>*</td>\n",
       "      <td>*</td>\n",
       "    </tr>\n",
       "  </tbody>\n",
       "</table>\n",
       "</div>"
      ],
      "text/plain": [
       "     단어  좌문맥ID  우문맥ID  가중치(단어비용) 품사태그 의미분류 종성유무    읽기 타입 첫품사 마지막품사 표현 표현2\n",
       "0   상담사    NaN    NaN       1000  NNG    *    F   상담사  *   *     *  *   *\n",
       "1    해지    NaN    NaN       1000  NNG    *    F    해지  *   *     *  *   *\n",
       "2    기가    NaN    NaN       1000  NNG    *    F    기가  *   *     *  *   *\n",
       "3  파이브지    NaN    NaN       1000  NNG    *    F  파이브지  *   *     *  *   *\n",
       "4   리모콘    NaN    NaN       1000  NNG    *    T   리모콘  *   *     *  *   *"
      ]
     },
     "execution_count": 2,
     "metadata": {},
     "output_type": "execute_result"
    }
   ],
   "source": [
    "import pandas as pd\n",
    "sample_user_dic_path = '/ntdev/youngri/YR_LAB/konlpy_things/me_userdict.csv'\n",
    "sample = pd.read_csv(sample_user_dic_path, encoding='utf-8-sig', header=None)\n",
    "sample.columns = ['단어','좌문맥ID','우문맥ID','가중치(단어비용)', '품사태그','의미분류','종성유무','읽기','타입','첫품사','마지막품사','표현','표현2']\n",
    "sample.head()\n",
    "\n",
    "# Compound : 명사끼리 붙은 복합명사 (ex.약정기간 = 약정/NNG + 기간/NNG)\n",
    "# Inflect : 품사분석시 변형이 일어나는 경우 (ex. 재가입 = 재/XPN +가입/NNG)"
   ]
  },
  {
   "cell_type": "code",
   "execution_count": 10,
   "metadata": {},
   "outputs": [
    {
     "name": "stdout",
     "output_type": "stream",
     "text": [
      "[('상', 'NNG'), ('담사', 'NNG'), ('와', 'JKB'), ('바로', 'MAG'), ('연결', 'NNG'), ('해', 'XSV+EC'), ('드릴게요', 'VX+EC')]\n"
     ]
    }
   ],
   "source": [
    "# 이 사전을 konlpy Mecab에 적용합니다.\n",
    "\n",
    "# 적용전 기록\n",
    "from konlpy.tag import Mecab\n",
    "mecab = Mecab()\n",
    "\n",
    "test_sentence = '상담사와 바로 연결해드릴게요'\n",
    "print(mecab.pos(test_sentence))\n",
    "\n",
    "# [('상', 'NNG'), ('담사', 'NNG'), ('와', 'JKB'), ('바로', 'MAG'), ('연결', 'NNG'), ('해', 'XSV+EC'), ('드릴게요', 'VX+EC')]"
   ]
  },
  {
   "cell_type": "raw",
   "metadata": {},
   "source": [
    "### 규칙에 맞게 작성된 사용자 사전을 Mecab에 적용\n",
    "\n",
    "설치방법\n",
    "\n",
    "필요한 파일: '/ntdev/youngri/YR_LAB/konlpy_things/me_userdict.csv'\n",
    "\n",
    "1) cp -f [사용자사전 경로] [mecab-ko/user-dic 경로에 복사할 이름]\n",
    "    >>\n",
    "    cp -f /ntdev/youngri/YR_LAB/konlpy_things/me_userdict.csv /ntdev/youngri/extra_modules/mecab-ko-dic-2.1.1-20180720/user-dic/test_dic.csv\n",
    "\n",
    "2) 해당 경로로 이동\n",
    "    >>\n",
    "    cd /ntdev/youngri/extra_modules/mecab-ko-dic-2.1.1-20180720\n",
    "\n",
    "3) ./autogen.sh\n",
    "\n",
    "4) ./configure\n",
    "\n",
    "5) tools/add-userdic.sh\n",
    "    : 사용자 사전 생성\n",
    "\n",
    "6) cat [사용자사전 경로] [mecab-ko 경로에 이어붙일 파일]\n",
    "    >>\n",
    "    - 추가할 때\n",
    "    cat /ntdev/youngri/YR_LAB/konlpy_things/me_userdict.csv /ntdev/youngri/extra_modules/mecab-ko-dic-2.1.1-20180720/user_test_dic.csv\n",
    "    - 생성할 때\n",
    "    cp /ntdev/youngri/YR_LAB/konlpy_things/me_userdict.csv /ntdev/youngri/extra_modules/mecab-ko-dic-2.1.1-20180720/user_test_dic.csv\n",
    "\n",
    "\n",
    "7) make\n",
    "8) make check\n",
    "9) sudo make clean\n",
    "10) sudo make install\n",
    "11) 에러문구 없이 종료되었다면 아래 파일로 확인 "
   ]
  },
  {
   "cell_type": "code",
   "execution_count": 3,
   "metadata": {},
   "outputs": [
    {
     "name": "stdout",
     "output_type": "stream",
     "text": [
      "[('상담사', 'NNG'), ('와', 'JKB'), ('바로', 'MAG'), ('연결', 'NNG'), ('해', 'XSV+EC'), ('드릴게요', 'VX+EC')]\n"
     ]
    }
   ],
   "source": [
    "# 새로운 사전을 적용하였기 때문에 다시 불러와서\n",
    "from konlpy.tag import Mecab\n",
    "mecab = Mecab()\n",
    "\n",
    "test_sentence = '상담사와 바로 연결해드릴게요'\n",
    "print(mecab.pos(test_sentence))\n",
    "\n",
    "# 성공!"
   ]
  }
 ],
 "metadata": {
  "interpreter": {
   "hash": "234dabe8e40c2039a03253ecba783ebfe49b2278b634949a7dde498a3c83abe1"
  },
  "kernelspec": {
   "display_name": "Python 3.7.5 ('yr3.7': venv)",
   "language": "python",
   "name": "python3"
  },
  "language_info": {
   "codemirror_mode": {
    "name": "ipython",
    "version": 3
   },
   "file_extension": ".py",
   "mimetype": "text/x-python",
   "name": "python",
   "nbconvert_exporter": "python",
   "pygments_lexer": "ipython3",
   "version": "3.7.5"
  },
  "orig_nbformat": 4
 },
 "nbformat": 4,
 "nbformat_minor": 2
}
